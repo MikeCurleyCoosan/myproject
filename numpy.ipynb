{
 "cells": [
  {
   "cell_type": "markdown",
   "metadata": {},
   "source": [
    "# Numpy\n",
    "\n",
    "An introduction\n",
    "\n",
    "\n",
    "\n",
    "<p align=\"left\"><img src=\"https://user-images.githubusercontent.com/98330/64479472-4b35c900-d16c-11e9-8d49-71fc02cd539f.png\" width=\"500\", height=\"500\"></p>\n"
   ]
  },
  {
   "cell_type": "code",
   "execution_count": 1,
   "metadata": {},
   "outputs": [],
   "source": [
    "import numpy as np"
   ]
  },
  {
   "cell_type": "code",
   "execution_count": 6,
   "metadata": {},
   "outputs": [
    {
     "name": "stdout",
     "output_type": "stream",
     "text": [
      "This is a 1D array: \n",
      "[1 2 3 4 5]\n",
      "This is a 2D array: \n",
      "[[1 2 3]\n",
      " [4 5 6]]\n",
      "This is a 3D array: \n",
      "[[[ 1  2  3]\n",
      "  [ 4  5  6]]\n",
      "\n",
      " [[ 7  8  9]\n",
      "  [10 11 12]]]\n",
      "Number of dimensions of arr_a: \n",
      "1\n",
      "Number of dimensions of arr_b: \n",
      "2\n",
      "Number of dimensions of arr_c: \n",
      "3\n"
     ]
    }
   ],
   "source": [
    "# One dimensional array\n",
    "arr_a= np.array([1, 2, 3, 4, 5])\n",
    "print(\"This is a 1D array: \")\n",
    "print(arr_a)  # [1 2 3 4 5]\n",
    "\n",
    "# Two dimensional array\n",
    "arr_b = np.array([[1, 2, 3], [4, 5, 6]])  \n",
    "print(\"This is a 2D array: \")\n",
    "print(arr_b)  # [[1 2 3]\n",
    "            #  [4 5 6]]\n",
    "\n",
    "# Three dimensional array\n",
    "arr_c = np.array([[[1, 2, 3], [4, 5, 6]], [[7, 8, 9], [10, 11, 12]]])    \n",
    "print(\"This is a 3D array: \")\n",
    "print(arr_c)  # [[[ 1  2  3]\n",
    "            #   [ 4  5  6]]\n",
    "            #  [[ 7  8  9]\n",
    "            #   [10 11 12]]]\n",
    "\n",
    "# Check the number of dimensions\n",
    "print(\"Number of dimensions of arr_a: \")\n",
    "print(arr_a.ndim)  # 1\n",
    "print(\"Number of dimensions of arr_b: \")\n",
    "print(arr_b.ndim)  # 2\n",
    "print(\"Number of dimensions of arr_c: \")\n",
    "print(arr_c.ndim)  # 3\n",
    "\n",
    "              \n"
   ]
  },
  {
   "cell_type": "markdown",
   "metadata": {},
   "source": [
    "## Accessing elememts in an array"
   ]
  },
  {
   "cell_type": "code",
   "execution_count": 7,
   "metadata": {},
   "outputs": [
    {
     "name": "stdout",
     "output_type": "stream",
     "text": [
      "Accessing elements of a 1D array: \n",
      "1\n",
      "Accessing elements of a 2D array: \n",
      "The second element of the first row is : \n",
      "2\n",
      "The third element of the second row is : \n",
      "6\n",
      "Accessing elements of a 3D array: \n",
      "The second element of the first row of the first matrix is : \n",
      "2\n"
     ]
    }
   ],
   "source": [
    "# Accessing elements of an array\n",
    "# One dimensional array\n",
    "\n",
    "print(\"Accessing elements of a 1D array: \")\n",
    "print(arr_a[0])  # 1\n",
    "\n",
    "# Two dimensional array\n",
    "print(\"Accessing elements of a 2D array: \")\n",
    "print(\"The second element of the first row is : \")\n",
    "print(arr_b[0, 1])  # 2\n",
    "print(\"The third element of the second row is : \")\n",
    "print(arr_b[1, 2])  # 6\n",
    "\n",
    "# Three dimensional array\n",
    "print(\"Accessing elements of a 3D array: \")\n",
    "print(\"The second element of the first row of the first matrix is : \")\n",
    "print(arr_c[0, 0, 1])  # 2\n",
    "\n",
    "#Explaining the above example:\n",
    "#The first number represents the first dimension, which contains two arrays: [[1, 2, 3], [4, 5, 6]] and [[7, 8, 9], [10, 11, 12]].\n",
    "#Since we selected 0, we are left with the following two arrays: [[1, 2, 3], [4, 5, 6]].\n",
    "#The second number represents the second dimension, which also contains two arrays: [1, 2, 3] and [4, 5, 6].\n",
    "#Since we selected 0, we are left with the first array: [1, 2, 3].\n",
    "#The third number represents the third dimension, which contains three values: 1, 2, and 3.\n",
    "#Since we selected 1, the final value is 2.\n"
   ]
  },
  {
   "cell_type": "markdown",
   "metadata": {},
   "source": [
    "## Slicing arrays\n"
   ]
  },
  {
   "cell_type": "code",
   "execution_count": null,
   "metadata": {},
   "outputs": [],
   "source": [
    "# We pass slice instead of index like this: [start:end].\n",
    "# We can also define the step, like this: [start:end:step].\n",
    "\n",
    "# The result includes the start index, but excludes the end index.\n",
    "\n",
    "# One dimensional array\n",
    "print(\"Slicing elements of a 1D array: \")\n",
    "print(arr_a[1:4])  # [2 3 4]\n",
    "\n",
    "# Two dimensional array\n",
    "print(\"Slicing elements of a 2D array: \")\n",
    "print(\"The first row is : \")    \n",
    "print(arr_b[0, 0:2])  # [1 2]\n",
    "print(\"The second column is : \")\n",
    "print(arr_b[0:2, 1])  # [2 5]"
   ]
  }
 ],
 "metadata": {
  "kernelspec": {
   "display_name": "base",
   "language": "python",
   "name": "python3"
  },
  "language_info": {
   "codemirror_mode": {
    "name": "ipython",
    "version": 3
   },
   "file_extension": ".py",
   "mimetype": "text/x-python",
   "name": "python",
   "nbconvert_exporter": "python",
   "pygments_lexer": "ipython3",
   "version": "3.11.5"
  }
 },
 "nbformat": 4,
 "nbformat_minor": 2
}
