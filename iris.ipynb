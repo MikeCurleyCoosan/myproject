{
 "cells": [
  {
   "cell_type": "markdown",
   "metadata": {},
   "source": [
    "# Iris Data Set\n",
    "\n",
    "---\n",
    "\n",
    "\n",
    "https://archive.ics.uci.edu/dataset/53/iris\n",
    "\n",
    "https://github.com/mwaskom/seaborn-data/blob/master/iris.csv\n",
    "\n",
    "https://realpython.com/python-matplotlib-guide/#understanding-pltsubplots-notation\n",
    "\n",
    "https://statistics.laerd.com/statistical-guides/pearson-correlation-coefficient-statistical-guide.php\n",
    "\n",
    "https://en.wikipedia.org/wiki/Pearson_correlation_coefficient\n",
    "\n",
    "https://numpy.org/doc/stable/reference/generated/numpy.corrcoef.html\n",
    "\n",
    "https://numpy.org/doc/stable/reference/generated/numpy.polyfit.html"
   ]
  },
  {
   "cell_type": "markdown",
   "metadata": {},
   "source": [
    "## Import our libraries\n",
    "---"
   ]
  },
  {
   "cell_type": "code",
   "execution_count": 1,
   "metadata": {},
   "outputs": [],
   "source": [
    "import pandas as pd\n",
    "\n",
    "import numpy as np\n",
    "\n",
    "import matplotlib.pyplot as plt"
   ]
  },
  {
   "cell_type": "markdown",
   "metadata": {},
   "source": [
    "## Read the Dataset from a URL"
   ]
  },
  {
   "cell_type": "code",
   "execution_count": 2,
   "metadata": {},
   "outputs": [],
   "source": [
    "df = pd.read_csv('https://raw.githubusercontent.com/mwaskom/seaborn-data/master/iris.csv')"
   ]
  },
  {
   "cell_type": "code",
   "execution_count": 3,
   "metadata": {},
   "outputs": [
    {
     "data": {
      "text/html": [
       "<div>\n",
       "<style scoped>\n",
       "    .dataframe tbody tr th:only-of-type {\n",
       "        vertical-align: middle;\n",
       "    }\n",
       "\n",
       "    .dataframe tbody tr th {\n",
       "        vertical-align: top;\n",
       "    }\n",
       "\n",
       "    .dataframe thead th {\n",
       "        text-align: right;\n",
       "    }\n",
       "</style>\n",
       "<table border=\"1\" class=\"dataframe\">\n",
       "  <thead>\n",
       "    <tr style=\"text-align: right;\">\n",
       "      <th></th>\n",
       "      <th>sepal_length</th>\n",
       "      <th>sepal_width</th>\n",
       "      <th>petal_length</th>\n",
       "      <th>petal_width</th>\n",
       "      <th>species</th>\n",
       "    </tr>\n",
       "  </thead>\n",
       "  <tbody>\n",
       "    <tr>\n",
       "      <th>0</th>\n",
       "      <td>5.1</td>\n",
       "      <td>3.5</td>\n",
       "      <td>1.4</td>\n",
       "      <td>0.2</td>\n",
       "      <td>setosa</td>\n",
       "    </tr>\n",
       "    <tr>\n",
       "      <th>1</th>\n",
       "      <td>4.9</td>\n",
       "      <td>3.0</td>\n",
       "      <td>1.4</td>\n",
       "      <td>0.2</td>\n",
       "      <td>setosa</td>\n",
       "    </tr>\n",
       "    <tr>\n",
       "      <th>2</th>\n",
       "      <td>4.7</td>\n",
       "      <td>3.2</td>\n",
       "      <td>1.3</td>\n",
       "      <td>0.2</td>\n",
       "      <td>setosa</td>\n",
       "    </tr>\n",
       "    <tr>\n",
       "      <th>3</th>\n",
       "      <td>4.6</td>\n",
       "      <td>3.1</td>\n",
       "      <td>1.5</td>\n",
       "      <td>0.2</td>\n",
       "      <td>setosa</td>\n",
       "    </tr>\n",
       "    <tr>\n",
       "      <th>4</th>\n",
       "      <td>5.0</td>\n",
       "      <td>3.6</td>\n",
       "      <td>1.4</td>\n",
       "      <td>0.2</td>\n",
       "      <td>setosa</td>\n",
       "    </tr>\n",
       "    <tr>\n",
       "      <th>...</th>\n",
       "      <td>...</td>\n",
       "      <td>...</td>\n",
       "      <td>...</td>\n",
       "      <td>...</td>\n",
       "      <td>...</td>\n",
       "    </tr>\n",
       "    <tr>\n",
       "      <th>145</th>\n",
       "      <td>6.7</td>\n",
       "      <td>3.0</td>\n",
       "      <td>5.2</td>\n",
       "      <td>2.3</td>\n",
       "      <td>virginica</td>\n",
       "    </tr>\n",
       "    <tr>\n",
       "      <th>146</th>\n",
       "      <td>6.3</td>\n",
       "      <td>2.5</td>\n",
       "      <td>5.0</td>\n",
       "      <td>1.9</td>\n",
       "      <td>virginica</td>\n",
       "    </tr>\n",
       "    <tr>\n",
       "      <th>147</th>\n",
       "      <td>6.5</td>\n",
       "      <td>3.0</td>\n",
       "      <td>5.2</td>\n",
       "      <td>2.0</td>\n",
       "      <td>virginica</td>\n",
       "    </tr>\n",
       "    <tr>\n",
       "      <th>148</th>\n",
       "      <td>6.2</td>\n",
       "      <td>3.4</td>\n",
       "      <td>5.4</td>\n",
       "      <td>2.3</td>\n",
       "      <td>virginica</td>\n",
       "    </tr>\n",
       "    <tr>\n",
       "      <th>149</th>\n",
       "      <td>5.9</td>\n",
       "      <td>3.0</td>\n",
       "      <td>5.1</td>\n",
       "      <td>1.8</td>\n",
       "      <td>virginica</td>\n",
       "    </tr>\n",
       "  </tbody>\n",
       "</table>\n",
       "<p>150 rows × 5 columns</p>\n",
       "</div>"
      ],
      "text/plain": [
       "     sepal_length  sepal_width  petal_length  petal_width    species\n",
       "0             5.1          3.5           1.4          0.2     setosa\n",
       "1             4.9          3.0           1.4          0.2     setosa\n",
       "2             4.7          3.2           1.3          0.2     setosa\n",
       "3             4.6          3.1           1.5          0.2     setosa\n",
       "4             5.0          3.6           1.4          0.2     setosa\n",
       "..            ...          ...           ...          ...        ...\n",
       "145           6.7          3.0           5.2          2.3  virginica\n",
       "146           6.3          2.5           5.0          1.9  virginica\n",
       "147           6.5          3.0           5.2          2.0  virginica\n",
       "148           6.2          3.4           5.4          2.3  virginica\n",
       "149           5.9          3.0           5.1          1.8  virginica\n",
       "\n",
       "[150 rows x 5 columns]"
      ]
     },
     "execution_count": 3,
     "metadata": {},
     "output_type": "execute_result"
    }
   ],
   "source": [
    "df"
   ]
  },
  {
   "cell_type": "code",
   "execution_count": 4,
   "metadata": {},
   "outputs": [
    {
     "data": {
      "text/plain": [
       "sepal_length    float64\n",
       "sepal_width     float64\n",
       "petal_length    float64\n",
       "petal_width     float64\n",
       "species          object\n",
       "dtype: object"
      ]
     },
     "execution_count": 4,
     "metadata": {},
     "output_type": "execute_result"
    }
   ],
   "source": [
    "# Inspect the types of the dataframe\n",
    "df.dtypes"
   ]
  },
  {
   "cell_type": "code",
   "execution_count": 5,
   "metadata": {},
   "outputs": [
    {
     "data": {
      "text/html": [
       "<div>\n",
       "<style scoped>\n",
       "    .dataframe tbody tr th:only-of-type {\n",
       "        vertical-align: middle;\n",
       "    }\n",
       "\n",
       "    .dataframe tbody tr th {\n",
       "        vertical-align: top;\n",
       "    }\n",
       "\n",
       "    .dataframe thead th {\n",
       "        text-align: right;\n",
       "    }\n",
       "</style>\n",
       "<table border=\"1\" class=\"dataframe\">\n",
       "  <thead>\n",
       "    <tr style=\"text-align: right;\">\n",
       "      <th></th>\n",
       "      <th>sepal_length</th>\n",
       "      <th>sepal_width</th>\n",
       "      <th>petal_length</th>\n",
       "      <th>petal_width</th>\n",
       "    </tr>\n",
       "  </thead>\n",
       "  <tbody>\n",
       "    <tr>\n",
       "      <th>count</th>\n",
       "      <td>150.000000</td>\n",
       "      <td>150.000000</td>\n",
       "      <td>150.000000</td>\n",
       "      <td>150.000000</td>\n",
       "    </tr>\n",
       "    <tr>\n",
       "      <th>mean</th>\n",
       "      <td>5.843333</td>\n",
       "      <td>3.057333</td>\n",
       "      <td>3.758000</td>\n",
       "      <td>1.199333</td>\n",
       "    </tr>\n",
       "    <tr>\n",
       "      <th>std</th>\n",
       "      <td>0.828066</td>\n",
       "      <td>0.435866</td>\n",
       "      <td>1.765298</td>\n",
       "      <td>0.762238</td>\n",
       "    </tr>\n",
       "    <tr>\n",
       "      <th>min</th>\n",
       "      <td>4.300000</td>\n",
       "      <td>2.000000</td>\n",
       "      <td>1.000000</td>\n",
       "      <td>0.100000</td>\n",
       "    </tr>\n",
       "    <tr>\n",
       "      <th>25%</th>\n",
       "      <td>5.100000</td>\n",
       "      <td>2.800000</td>\n",
       "      <td>1.600000</td>\n",
       "      <td>0.300000</td>\n",
       "    </tr>\n",
       "    <tr>\n",
       "      <th>50%</th>\n",
       "      <td>5.800000</td>\n",
       "      <td>3.000000</td>\n",
       "      <td>4.350000</td>\n",
       "      <td>1.300000</td>\n",
       "    </tr>\n",
       "    <tr>\n",
       "      <th>75%</th>\n",
       "      <td>6.400000</td>\n",
       "      <td>3.300000</td>\n",
       "      <td>5.100000</td>\n",
       "      <td>1.800000</td>\n",
       "    </tr>\n",
       "    <tr>\n",
       "      <th>max</th>\n",
       "      <td>7.900000</td>\n",
       "      <td>4.400000</td>\n",
       "      <td>6.900000</td>\n",
       "      <td>2.500000</td>\n",
       "    </tr>\n",
       "  </tbody>\n",
       "</table>\n",
       "</div>"
      ],
      "text/plain": [
       "       sepal_length  sepal_width  petal_length  petal_width\n",
       "count    150.000000   150.000000    150.000000   150.000000\n",
       "mean       5.843333     3.057333      3.758000     1.199333\n",
       "std        0.828066     0.435866      1.765298     0.762238\n",
       "min        4.300000     2.000000      1.000000     0.100000\n",
       "25%        5.100000     2.800000      1.600000     0.300000\n",
       "50%        5.800000     3.000000      4.350000     1.300000\n",
       "75%        6.400000     3.300000      5.100000     1.800000\n",
       "max        7.900000     4.400000      6.900000     2.500000"
      ]
     },
     "execution_count": 5,
     "metadata": {},
     "output_type": "execute_result"
    }
   ],
   "source": [
    "#Summary of the dataframe\n",
    "df.describe()"
   ]
  },
  {
   "cell_type": "markdown",
   "metadata": {},
   "source": [
    "## Two Varialble Plots\n",
    "---"
   ]
  },
  {
   "cell_type": "code",
   "execution_count": 6,
   "metadata": {},
   "outputs": [
    {
     "name": "stdout",
     "output_type": "stream",
     "text": [
      "0      1.4\n",
      "1      1.4\n",
      "2      1.3\n",
      "3      1.5\n",
      "4      1.4\n",
      "      ... \n",
      "145    5.2\n",
      "146    5.0\n",
      "147    5.2\n",
      "148    5.4\n",
      "149    5.1\n",
      "Name: petal_length, Length: 150, dtype: float64\n",
      "<class 'pandas.core.series.Series'>\n"
     ]
    }
   ],
   "source": [
    "#Get the petal length from pandas dataframe\n",
    "\n",
    "petal_length = df['petal_length']\n",
    "\n",
    "#Show the petal length column\n",
    "print(petal_length)\n",
    "\n",
    "#Show the datatype of a pandas series\n",
    "print(type(petal_length))"
   ]
  },
  {
   "cell_type": "code",
   "execution_count": 7,
   "metadata": {},
   "outputs": [
    {
     "name": "stdout",
     "output_type": "stream",
     "text": [
      "[1.4 1.4 1.3 1.5 1.4 1.7 1.4 1.5 1.4 1.5 1.5 1.6 1.4 1.1 1.2 1.5 1.3 1.4\n",
      " 1.7 1.5 1.7 1.5 1.  1.7 1.9 1.6 1.6 1.5 1.4 1.6 1.6 1.5 1.5 1.4 1.5 1.2\n",
      " 1.3 1.4 1.3 1.5 1.3 1.3 1.3 1.6 1.9 1.4 1.6 1.4 1.5 1.4 4.7 4.5 4.9 4.\n",
      " 4.6 4.5 4.7 3.3 4.6 3.9 3.5 4.2 4.  4.7 3.6 4.4 4.5 4.1 4.5 3.9 4.8 4.\n",
      " 4.9 4.7 4.3 4.4 4.8 5.  4.5 3.5 3.8 3.7 3.9 5.1 4.5 4.5 4.7 4.4 4.1 4.\n",
      " 4.4 4.6 4.  3.3 4.2 4.2 4.2 4.3 3.  4.1 6.  5.1 5.9 5.6 5.8 6.6 4.5 6.3\n",
      " 5.8 6.1 5.1 5.3 5.5 5.  5.1 5.3 5.5 6.7 6.9 5.  5.7 4.9 6.7 4.9 5.7 6.\n",
      " 4.8 4.9 5.6 5.8 6.1 6.4 5.6 5.1 5.6 6.1 5.6 5.5 4.8 5.4 5.6 5.1 5.1 5.9\n",
      " 5.7 5.2 5.  5.2 5.4 5.1]\n",
      "<class 'numpy.ndarray'>\n"
     ]
    }
   ],
   "source": [
    "# Get the petal lenght column and convert it to a numpy array\n",
    "p_len = np.array(df['petal_length'])\n",
    "\n",
    "#Show the numpy array\n",
    "print(p_len)\n",
    "\n",
    "#Show the datatype of the numpy array\n",
    "print(type(p_len))"
   ]
  },
  {
   "cell_type": "code",
   "execution_count": 8,
   "metadata": {},
   "outputs": [
    {
     "name": "stdout",
     "output_type": "stream",
     "text": [
      "[0.2 0.2 0.2 0.2 0.2 0.4 0.3 0.2 0.2 0.1 0.2 0.2 0.1 0.1 0.2 0.4 0.4 0.3\n",
      " 0.3 0.3 0.2 0.4 0.2 0.5 0.2 0.2 0.4 0.2 0.2 0.2 0.2 0.4 0.1 0.2 0.2 0.2\n",
      " 0.2 0.1 0.2 0.2 0.3 0.3 0.2 0.6 0.4 0.3 0.2 0.2 0.2 0.2 1.4 1.5 1.5 1.3\n",
      " 1.5 1.3 1.6 1.  1.3 1.4 1.  1.5 1.  1.4 1.3 1.4 1.5 1.  1.5 1.1 1.8 1.3\n",
      " 1.5 1.2 1.3 1.4 1.4 1.7 1.5 1.  1.1 1.  1.2 1.6 1.5 1.6 1.5 1.3 1.3 1.3\n",
      " 1.2 1.4 1.2 1.  1.3 1.2 1.3 1.3 1.1 1.3 2.5 1.9 2.1 1.8 2.2 2.1 1.7 1.8\n",
      " 1.8 2.5 2.  1.9 2.1 2.  2.4 2.3 1.8 2.2 2.3 1.5 2.3 2.  2.  1.8 2.1 1.8\n",
      " 1.8 1.8 2.1 1.6 1.9 2.  2.2 1.5 1.4 2.3 2.4 1.8 1.8 2.1 2.4 2.3 1.9 2.3\n",
      " 2.5 2.3 1.9 2.  2.3 1.8]\n"
     ]
    }
   ],
   "source": [
    "# Get the petal width column and convert it to a numpy array\n",
    "\n",
    "p_width = df['petal_width'].to_numpy() #All in one fell swoop this time\n",
    "\n",
    "#Show the numpy array\n",
    "print(p_width)\n"
   ]
  },
  {
   "cell_type": "markdown",
   "metadata": {},
   "source": [
    "# Simple plot \n",
    "---"
   ]
  },
  {
   "cell_type": "code",
   "execution_count": 9,
   "metadata": {},
   "outputs": [
    {
     "data": {
      "text/plain": [
       "(0.0, 3.0)"
      ]
     },
     "execution_count": 9,
     "metadata": {},
     "output_type": "execute_result"
    },
    {
     "data": {
      "image/png": "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",
      "text/plain": [
       "<Figure size 640x480 with 1 Axes>"
      ]
     },
     "metadata": {},
     "output_type": "display_data"
    }
   ],
   "source": [
    "# Simple plot of the petal length vs petal width. This is using the stateful approach, which is not the recommended way to do it\n",
    "# We will look at the recommended way ( the stateless approach, or the object oriented approach) in the next cell\n",
    "\n",
    "\n",
    "plt.plot(p_len, p_width, 'x')\n",
    "\n",
    "#Axis labels\n",
    "plt.xlabel('Petal Length (cm)')\n",
    "plt.ylabel('Petal Width (cm)')\n",
    "\n",
    "#Title\n",
    "plt.title('Iris Data Set')\n",
    "\n",
    "#Set your x and y axis limits\n",
    "plt.xlim(0, 8)\n",
    "plt.ylim(0, 3)"
   ]
  },
  {
   "cell_type": "markdown",
   "metadata": {},
   "source": [
    "# Correct way of plotting\n",
    "---"
   ]
  },
  {
   "cell_type": "code",
   "execution_count": 10,
   "metadata": {},
   "outputs": [
    {
     "data": {
      "text/plain": [
       "(0.0, 3.0)"
      ]
     },
     "execution_count": 10,
     "metadata": {},
     "output_type": "execute_result"
    },
    {
     "data": {
      "image/png": "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",
      "text/plain": [
       "<Figure size 640x480 with 1 Axes>"
      ]
     },
     "metadata": {},
     "output_type": "display_data"
    }
   ],
   "source": [
    "#The stateless approach\n",
    "\n",
    "#Create a figure and axis object\n",
    "fig, ax = plt.subplots()\n",
    "\n",
    "#Plot the data\n",
    "ax.plot(p_len, p_width, 'x')\n",
    "\n",
    "#Axis labels\n",
    "ax.set_xlabel('Petal Length (cm)')\n",
    "ax.set_ylabel('Petal Width (cm)')\n",
    "\n",
    "#Title\n",
    "ax.set_title('Iris Data Set')\n",
    "\n",
    "#Set your x and y axis limits\n",
    "ax.set_xlim(0, 8)\n",
    "ax.set_ylim(0, 3)\n"
   ]
  },
  {
   "cell_type": "markdown",
   "metadata": {},
   "source": [
    "## Adding a Best fit line\n",
    "---"
   ]
  },
  {
   "cell_type": "markdown",
   "metadata": {},
   "source": [
    "$$ y = mx + c = p_1 x^1 + p_0 = p_1 x + p_0 $$"
   ]
  },
  {
   "cell_type": "code",
   "execution_count": 11,
   "metadata": {},
   "outputs": [
    {
     "name": "stdout",
     "output_type": "stream",
     "text": [
      "0.4157554163524116 -0.3630755213190288\n"
     ]
    },
    {
     "data": {
      "text/plain": [
       "[<matplotlib.lines.Line2D at 0x1f8136dc310>]"
      ]
     },
     "execution_count": 11,
     "metadata": {},
     "output_type": "execute_result"
    },
    {
     "data": {
      "image/png": "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",
      "text/plain": [
       "<Figure size 640x480 with 1 Axes>"
      ]
     },
     "metadata": {},
     "output_type": "display_data"
    }
   ],
   "source": [
    "# Fitting a straight line between our x and y axis data points\n",
    "\n",
    "#Create a figure and axis object    \n",
    "fig, ax = plt.subplots()\n",
    "\n",
    "#Plot the data\n",
    "ax.plot(p_len, p_width, 'x')\n",
    "\n",
    "#Axis labels\n",
    "ax.set_xlabel('Petal Length (cm)')\n",
    "ax.set_ylabel('Petal Width (cm)')\n",
    "ax.set_title('Iris Data Set')\n",
    "\n",
    "#Set your x and y axis limits\n",
    "ax.set_xlim(0, 8)\n",
    "ax.set_ylim(0, 3)\n",
    "\n",
    "#Fitting a straight line\n",
    "m, c = np.polyfit(p_len, p_width, 1) # m is the slope, c is the y-intercept\n",
    "\n",
    "#Show m and c\n",
    "print(m, c)\n",
    "\n",
    "#plot the line\n",
    "ax.plot(p_len, m*p_len + c, 'r-')\n",
    "\n",
    "#Second approach to fitting a straight line\n",
    "\n",
    "#x values for best fit line\n",
    "bf_x = np.linspace(0.0, 8.0, 100)\n",
    "\n",
    "#y values for best fit line\n",
    "bf_y = m*bf_x + c\n",
    "\n",
    "#plot the best fit line\n",
    "ax.plot(bf_x, bf_y, 'g-')"
   ]
  },
  {
<<<<<<< HEAD
   "cell_type": "markdown",
=======
   "cell_type": "code",
   "execution_count": 12,
   "metadata": {},
   "outputs": [
    {
     "name": "stdout",
     "output_type": "stream",
     "text": [
      "[[1.         0.96286543]\n",
      " [0.96286543 1.        ]]\n"
     ]
    }
   ],
   "source": [
    "#Measure the correlation between petal length and petal width\n",
    "\n",
    "#Calculate the correlation\n",
    "correlation = np.corrcoef(p_len, p_width)\n",
    "\n",
    "#Show the correlation\n",
    "print(correlation)"
   ]
  },
  {
   "cell_type": "code",
   "execution_count": null,
>>>>>>> 16aa0011aad1629635f977c7ed8f0879cbd7e7c8
   "metadata": {},
   "source": [
    "### End\n",
    "---"
   ]
  }
 ],
 "metadata": {
  "kernelspec": {
   "display_name": "base",
   "language": "python",
   "name": "python3"
  },
  "language_info": {
   "codemirror_mode": {
    "name": "ipython",
    "version": 3
   },
   "file_extension": ".py",
   "mimetype": "text/x-python",
   "name": "python",
   "nbconvert_exporter": "python",
   "pygments_lexer": "ipython3",
   "version": "3.11.5"
  }
 },
 "nbformat": 4,
 "nbformat_minor": 2
}
