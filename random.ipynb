{
 "cells": [
  {
   "cell_type": "markdown",
   "metadata": {},
   "source": [
    "# Random Numbers\n",
    "\n",
    "***"
   ]
  },
  {
   "cell_type": "markdown",
   "metadata": {},
   "source": [
    "## Prequisites\n",
    "\n",
    "[Numpy Random](https://numpy.org/doc/stable/reference/random/index.html)"
   ]
  },
  {
   "cell_type": "code",
   "execution_count": 10,
   "metadata": {},
   "outputs": [],
   "source": [
    "# Numerical arrays and random numbers\n",
    "import numpy as np\n",
    "\n",
    "# Plot \n",
    "import matplotlib.pyplot as plt"
   ]
  },
  {
   "cell_type": "code",
   "execution_count": 2,
   "metadata": {},
   "outputs": [],
   "source": [
    "rng = np.random.default_rng()"
   ]
  },
  {
   "cell_type": "code",
   "execution_count": 3,
   "metadata": {},
   "outputs": [
    {
     "data": {
      "text/plain": [
       "0.16453730846017156"
      ]
     },
     "execution_count": 3,
     "metadata": {},
     "output_type": "execute_result"
    }
   ],
   "source": [
    "# Generate one random float uniformly distributed between over the range [0.0, 1.0)\n",
    "rng.random() "
   ]
  },
  {
   "cell_type": "code",
   "execution_count": 5,
   "metadata": {},
   "outputs": [
    {
     "data": {
      "text/plain": [
       "array([-0.0770253 , -0.30499142,  0.79737692, -0.6037306 , -0.10556989,\n",
       "        0.84067598,  0.88236835, -1.20511276,  1.55824322,  0.80074618])"
      ]
     },
     "execution_count": 5,
     "metadata": {},
     "output_type": "execute_result"
    }
   ],
   "source": [
    "# Generate an array of 10 numbers according to a unit Gaussian distribution\n",
    "rng.standard_normal(10)"
   ]
  },
  {
   "cell_type": "code",
   "execution_count": 6,
   "metadata": {},
   "outputs": [
    {
     "data": {
      "text/plain": [
       "array([5, 8, 6, 8, 1])"
      ]
     },
     "execution_count": 6,
     "metadata": {},
     "output_type": "execute_result"
    }
   ],
   "source": [
    "# Generate an array of 5 integers uniformly over the range [0, 10)\n",
    "rng.integers(low=0, high=10, size=5)b"
   ]
  },
  {
   "cell_type": "markdown",
   "metadata": {},
   "source": [
    "# Pseudo-Random Seed\n",
    "\n",
    "We can generate the same random number if we know the seed. Down below we have used the secrets module\n",
    "to generate a 128bit integer, which if we pass to our random number generator on two different occasions\n",
    "will generate the same \"random\" number"
   ]
  },
  {
   "cell_type": "code",
   "execution_count": 7,
   "metadata": {},
   "outputs": [
    {
     "data": {
      "text/plain": [
       "145371618400909440876149166670596104030"
      ]
     },
     "execution_count": 7,
     "metadata": {},
     "output_type": "execute_result"
    }
   ],
   "source": [
    "import secrets\n",
    "sec = secrets.randbits(128)\n",
    "sec"
   ]
  },
  {
   "cell_type": "code",
   "execution_count": 8,
   "metadata": {},
   "outputs": [
    {
     "data": {
      "text/plain": [
       "0.81348317644199"
      ]
     },
     "execution_count": 8,
     "metadata": {},
     "output_type": "execute_result"
    }
   ],
   "source": [
    "rng1 = np.random.default_rng(sec)\n",
    "\n",
    "rng1.random()"
   ]
  },
  {
   "cell_type": "code",
   "execution_count": 9,
   "metadata": {},
   "outputs": [
    {
     "data": {
      "text/plain": [
       "0.81348317644199"
      ]
     },
     "execution_count": 9,
     "metadata": {},
     "output_type": "execute_result"
    }
   ],
   "source": [
    "rng2 = np.random.default_rng(sec)\n",
    "\n",
    "rng2.random()"
   ]
  },
  {
   "cell_type": "code",
   "execution_count": 14,
   "metadata": {},
   "outputs": [
    {
     "data": {
      "text/plain": [
       "array([ 6, 10,  4, ...,  6,  7,  1])"
      ]
     },
     "execution_count": 14,
     "metadata": {},
     "output_type": "execute_result"
    }
   ],
   "source": [
    "# Generate 10,000 integers over the range [0, 10)\n",
    "x = rng.integers(low=1, high=10, size=10000, endpoint=True)\n",
    "\n",
    "#Show x\n",
    "x"
   ]
  },
  {
   "cell_type": "code",
   "execution_count": 15,
   "metadata": {},
   "outputs": [
    {
     "data": {
      "text/plain": [
       "(array([ 1,  2,  3,  4,  5,  6,  7,  8,  9, 10]),\n",
       " array([ 980,  969,  998, 1025, 1048, 1042, 1019,  981,  995,  943]))"
      ]
     },
     "execution_count": 15,
     "metadata": {},
     "output_type": "execute_result"
    }
   ],
   "source": [
    "# Get the counts\n",
    "values, counts = np.unique(x, return_counts=True)\n",
    "\n",
    "# Show the counts\n",
    "values, counts"
   ]
  },
  {
   "cell_type": "code",
   "execution_count": 16,
   "metadata": {},
   "outputs": [
    {
     "data": {
      "text/plain": [
       "<BarContainer object of 10 artists>"
      ]
     },
     "execution_count": 16,
     "metadata": {},
     "output_type": "execute_result"
    },
    {
     "data": {
      "image/png": "[encoded data removed]",
      "text/plain": [
       "<Figure size 640x480 with 1 Axes>"
      ]
     },
     "metadata": {},
     "output_type": "display_data"
    }
   ],
   "source": [
    "# Plot the counts (A discrete uniform distribution should have roughly equal counts for each value.)\n",
    "plt.bar(values, counts)"
   ]
  },
  {
   "cell_type": "markdown",
   "metadata": {},
   "source": [
    "# Uniform Distribution"
   ]
  },
  {
   "cell_type": "code",
   "execution_count": 21,
   "metadata": {},
   "outputs": [
    {
     "data": {
      "text/plain": [
       "array([6.97289903, 5.26014533, 2.04476166, 4.25461632, 1.99463706,\n",
       "       6.94698173, 5.0367477 , 0.42877317, 6.50473421, 3.97164336,\n",
       "       9.63188869, 1.95942941, 9.97977879, 8.90034103, 8.91071805,\n",
       "       5.57825997, 8.41425956, 8.22994424, 2.01685741, 4.47954493,\n",
       "       4.31011287, 0.03936745, 2.34847739, 7.5861261 , 6.88718374,\n",
       "       8.79560367, 1.02407172, 9.61100196, 1.86506414, 6.58374002,\n",
       "       8.38221238, 2.96598159, 4.9036039 , 1.37941249, 8.69980827,\n",
       "       5.92678011, 0.08533593, 6.63917325, 5.49817031, 1.360149  ,\n",
       "       6.94219556, 9.45758279, 6.20642868, 5.62374237, 6.26996122,\n",
       "       1.14620691, 8.49814902, 5.55736439, 3.4133621 , 8.00352076,\n",
       "       9.2862056 , 2.77300284, 0.91356469, 3.58093888, 4.67985828,\n",
       "       1.83882767, 1.07567135, 6.51843553, 2.29684368, 8.63779469,\n",
       "       2.27282778, 7.12426674, 3.55565106, 8.71090472, 4.02205127,\n",
       "       2.35441054, 0.68289831, 3.38678964, 9.39303332, 2.49234833,\n",
       "       0.67595325, 7.42852098, 3.01764269, 0.51938374, 5.38545069,\n",
       "       5.62087731, 4.4563678 , 3.02036523, 4.42446417, 8.82101764,\n",
       "       4.18085974, 2.76051989, 5.46789501, 0.19234919, 0.84771707,\n",
       "       3.88614633, 0.56383983, 4.39751083, 2.84789465, 3.41723785,\n",
       "       1.53654707, 5.16617234, 8.30576524, 4.02187363, 4.13420848,\n",
       "       3.95568245, 1.58372494, 1.37246065, 7.00159692, 9.32030802])"
      ]
     },
     "execution_count": 21,
     "metadata": {},
     "output_type": "execute_result"
    }
   ],
   "source": [
    "# Generate 10,000 floats uniformly distributed over the range [0, 10)\n",
    "x = rng.uniform(low=0.0, high=10.0, size=100)\n",
    "\n",
    "# show x \n",
    "x"
   ]
  },
  {
   "cell_type": "code",
   "execution_count": 22,
   "metadata": {},
   "outputs": [
    {
     "data": {
      "text/plain": [
       "(array([0.03936745, 0.08533593, 0.19234919, 0.42877317, 0.51938374,\n",
       "        0.56383983, 0.67595325, 0.68289831, 0.84771707, 0.91356469,\n",
       "        1.02407172, 1.07567135, 1.14620691, 1.360149  , 1.37246065,\n",
       "        1.37941249, 1.53654707, 1.58372494, 1.83882767, 1.86506414,\n",
       "        1.95942941, 1.99463706, 2.01685741, 2.04476166, 2.27282778,\n",
       "        2.29684368, 2.34847739, 2.35441054, 2.49234833, 2.76051989,\n",
       "        2.77300284, 2.84789465, 2.96598159, 3.01764269, 3.02036523,\n",
       "        3.38678964, 3.4133621 , 3.41723785, 3.55565106, 3.58093888,\n",
       "        3.88614633, 3.95568245, 3.97164336, 4.02187363, 4.02205127,\n",
       "        4.13420848, 4.18085974, 4.25461632, 4.31011287, 4.39751083,\n",
       "        4.42446417, 4.4563678 , 4.47954493, 4.67985828, 4.9036039 ,\n",
       "        5.0367477 , 5.16617234, 5.26014533, 5.38545069, 5.46789501,\n",
       "        5.49817031, 5.55736439, 5.57825997, 5.62087731, 5.62374237,\n",
       "        5.92678011, 6.20642868, 6.26996122, 6.50473421, 6.51843553,\n",
       "        6.58374002, 6.63917325, 6.88718374, 6.94219556, 6.94698173,\n",
       "        6.97289903, 7.00159692, 7.12426674, 7.42852098, 7.5861261 ,\n",
       "        8.00352076, 8.22994424, 8.30576524, 8.38221238, 8.41425956,\n",
       "        8.49814902, 8.63779469, 8.69980827, 8.71090472, 8.79560367,\n",
       "        8.82101764, 8.90034103, 8.91071805, 9.2862056 , 9.32030802,\n",
       "        9.39303332, 9.45758279, 9.61100196, 9.63188869, 9.97977879]),\n",
       " array([1, 1, 1, 1, 1, 1, 1, 1, 1, 1, 1, 1, 1, 1, 1, 1, 1, 1, 1, 1, 1, 1,\n",
       "        1, 1, 1, 1, 1, 1, 1, 1, 1, 1, 1, 1, 1, 1, 1, 1, 1, 1, 1, 1, 1, 1,\n",
       "        1, 1, 1, 1, 1, 1, 1, 1, 1, 1, 1, 1, 1, 1, 1, 1, 1, 1, 1, 1, 1, 1,\n",
       "        1, 1, 1, 1, 1, 1, 1, 1, 1, 1, 1, 1, 1, 1, 1, 1, 1, 1, 1, 1, 1, 1,\n",
       "        1, 1, 1, 1, 1, 1, 1, 1, 1, 1, 1, 1]),\n",
       " 100,\n",
       " 100)"
      ]
     },
     "execution_count": 22,
     "metadata": {},
     "output_type": "execute_result"
    }
   ],
   "source": [
    "# Get the counts\n",
    "values, counts = np.unique(x, return_counts=True)\n",
    "\n",
    "# Show the counts\n",
    "values, counts, values.size, counts.size"
   ]
  },
  {
   "cell_type": "code",
   "execution_count": 24,
   "metadata": {},
   "outputs": [
    {
     "data": {
      "text/plain": [
       "<BarContainer object of 100 artists>"
      ]
     },
     "execution_count": 24,
     "metadata": {},
     "output_type": "execute_result"
    },
    {
     "data": {
      "image/png": "[encoded data removed]",
      "text/plain": [
       "<Figure size 640x480 with 1 Axes>"
      ]
     },
     "metadata": {},
     "output_type": "display_data"
    }
   ],
   "source": [
    "# Plot the counts (A uniform distribution should have roughly equal counts for each value.)\n",
    "plt.bar(values, counts, edgecolor='black') # Not a good idea to plot this as a bar chart as the values are floats, not integers"
   ]
  },
  {
   "cell_type": "code",
   "execution_count": 25,
   "metadata": {},
   "outputs": [
    {
     "data": {
      "text/plain": [
       "(array([11., 12., 12.,  8., 12., 11., 10.,  4., 13.,  7.]),\n",
       " array([0.03936745, 1.03340858, 2.02744972, 3.02149085, 4.01553198,\n",
       "        5.00957312, 6.00361425, 6.99765538, 7.99169652, 8.98573765,\n",
       "        9.97977879]),\n",
       " <BarContainer object of 10 artists>)"
      ]
     },
     "execution_count": 25,
     "metadata": {},
     "output_type": "execute_result"
    },
    {
     "data": {
      "image/png": "[encoded data removed]",
      "text/plain": [
       "<Figure size 640x480 with 1 Axes>"
      ]
     },
     "metadata": {},
     "output_type": "display_data"
    }
   ],
   "source": [
    "# plot the histogram. THis is a better way to visualize the distribution of a continuous variable as it bins the data\n",
    "# and shows the counts in each bin\n",
    "\n",
    "plt.hist(x, bins=10, edgecolor='black')"
   ]
  },
  {
   "cell_type": "markdown",
   "metadata": {},
   "source": [
    "***\n",
    "\n",
    "#### End"
   ]
  }
 ],
 "metadata": {
  "kernelspec": {
   "display_name": "Python 3",
   "language": "python",
   "name": "python3"
  },
  "language_info": {
   "codemirror_mode": {
    "name": "ipython",
    "version": 3
   },
   "file_extension": ".py",
   "mimetype": "text/x-python",
   "name": "python",
   "nbconvert_exporter": "python",
   "pygments_lexer": "ipython3",
   "version": "3.11.5"
  }
 },
 "nbformat": 4,
 "nbformat_minor": 2
}
